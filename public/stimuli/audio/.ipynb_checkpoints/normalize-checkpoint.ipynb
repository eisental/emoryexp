{
 "cells": [
  {
   "cell_type": "code",
   "execution_count": 40,
   "id": "c3897b77-c820-4831-b2ad-d709feb37240",
   "metadata": {},
   "outputs": [],
   "source": [
    "from pydub import AudioSegment\n",
    "from pathlib import Path"
   ]
  },
  {
   "cell_type": "code",
   "execution_count": null,
   "id": "6901ee19-0c0d-4fc1-a1f5-d9dd0451eae3",
   "metadata": {},
   "outputs": [],
   "source": [
    "\n",
    "import os\n",
    "\n",
    "BASE_PATH = \"your/files/folder/path/\"\n",
    "OUTPUT_PATH = \"path/that/you/want/save/new/files/\"\n",
    "AUDIO_FORMAT_LIST = [\"mp3\", \"wav\"]  # audio formats you want to change\n",
    "\n",
    "\n",
    "def match_target_amplitude(sound, target_dBFS):\n",
    "    change_in_dBFS = target_dBFS - sound.dBFS\n",
    "    return sound.apply_gain(change_in_dBFS)\n",
    "\n",
    "\n",
    "filenames = next(\n",
    "    os.walk(BASE_PATH),\n",
    "    (None, None, []),\n",
    ")\n",
    "for filename in filenames:\n",
    "    flag = False\n",
    "    file_audio_format = \"\"\n",
    "    for audio_format in AUDIO_FORMAT_LIST:\n",
    "        if filename.endswith(\".\" + audio_format):\n",
    "            flag = True\n",
    "            file_audio_format = audio_format\n",
    "            break\n",
    "    if flag:\n",
    "        sound = AudioSegment.from_file(BASE_PATH + filename, file_audio_format)\n",
    "        normalized_sound = match_target_amplitude(sound, -14.0)\n",
    "        normalized_sound.export(\n",
    "            OUTPUT_PATH + \"nomrmalized\" + filename, format=file_audio_format\n",
    "        )"
   ]
  },
  {
   "cell_type": "code",
   "execution_count": 7,
   "id": "f49798c6-7b89-4946-b8ff-fd348a0359f1",
   "metadata": {},
   "outputs": [],
   "source": [
    "dir = Path(\".\")"
   ]
  },
  {
   "cell_type": "code",
   "execution_count": 28,
   "id": "102b9cee-3d04-44d3-9b1f-fc80a59ce90b",
   "metadata": {},
   "outputs": [],
   "source": [
    "subjects = {\n",
    "    \"Sp_H_1\": list(dir.glob('Sp_H_1*.wav')),\n",
    "    \"Mu_H_3\": list(dir.glob('Mu_H_3*.wav'))\n",
    "}\n"
   ]
  },
  {
   "cell_type": "code",
   "execution_count": 38,
   "id": "82b09a7b-c1e3-490a-a12d-edcbd3814071",
   "metadata": {},
   "outputs": [],
   "source": [
    "def max_amp(path):\n",
    "    sound = AudioSegment.from_file(path)\n",
    "    return sound.dBFS\n",
    "\n",
    "def normalize_file(output_dir: Path, audio_path: Path, gain):\n",
    "    sound = AudioSegment.from_file(audio_path)\n",
    "    normalized_sound = sound.apply_gain(gain)\n",
    "    normalized_sound.export(\n",
    "        output_dir / (audio_path.stem + '.mp3'), format=\"mp3\"\n",
    "    )    "
   ]
  },
  {
   "cell_type": "code",
   "execution_count": 31,
   "id": "11866615-6a00-4e19-a4c4-60c1333fd2e8",
   "metadata": {},
   "outputs": [],
   "source": [
    "max_amps = {subject: max([max_amp(p) for p in paths]) for subject, paths in subjects.items()}"
   ]
  },
  {
   "cell_type": "code",
   "execution_count": 30,
   "id": "49af6ebf-bef6-4211-8038-523884aad85a",
   "metadata": {},
   "outputs": [
    {
     "data": {
      "text/plain": [
       "{'Sp_H_1': -35.48596672215866, 'Mu_H_3': -40.06230902760845}"
      ]
     },
     "execution_count": 30,
     "metadata": {},
     "output_type": "execute_result"
    }
   ],
   "source": [
    "max_amps"
   ]
  },
  {
   "cell_type": "code",
   "execution_count": 43,
   "id": "96be545a-b665-437a-96e9-5256477a0155",
   "metadata": {},
   "outputs": [
    {
     "name": "stdout",
     "output_type": "stream",
     "text": [
      "Sp_H_1_Sn_B_1_R_1.wav 34.48596672215866\n",
      "Sp_H_1_Ml_T_1_R_5.wav 34.48596672215866\n",
      "Sp_H_1_Sn_B_1_R_2.wav 34.48596672215866\n",
      "Sp_H_1_Ml_T_1_R_6.wav 34.48596672215866\n",
      "Sp_H_1_Ml_T_1_R_7.wav 34.48596672215866\n",
      "Sp_H_1_Sn_B_1_R_3.wav 34.48596672215866\n",
      "Sp_H_1_Sn_B_1_R_4.wav 34.48596672215866\n",
      "Sp_H_1_Ml_B_1_R_9.wav 34.48596672215866\n",
      "Sp_H_1_Ml_B_1_R_8.wav 34.48596672215866\n",
      "Sp_H_1_Sn_T_1_L_10.wav 34.48596672215866\n",
      "Sp_H_1_Sn_B_1_L_6.wav 34.48596672215866\n",
      "Sp_H_1_Ml_T_1_L_2.wav 34.48596672215866\n",
      "Sp_H_1_Ml_T_1_L_3.wav 34.48596672215866\n",
      "Sp_H_1_Ml_B_1_R_12.wav 34.48596672215866\n",
      "Sp_H_1_Sn_B_1_L_7.wav 34.48596672215866\n",
      "Sp_H_1_Sn_T_1_L_11.wav 34.48596672215866\n",
      "Sp_H_1_Sn_B_1_L_5.wav 34.48596672215866\n",
      "Sp_H_1_Ml_T_1_L_1.wav 34.48596672215866\n",
      "Sp_H_1_Ml_B_1_R_10.wav 34.48596672215866\n",
      "Sp_H_1_Ml_B_1_R_11.wav 34.48596672215866\n",
      "Sp_H_1_Sn_T_1_L_12.wav 34.48596672215866\n",
      "Sp_H_1_Sn_B_1_L_11.wav 34.48596672215866\n",
      "Sp_H_1_Ml_T_1_L_4.wav 34.48596672215866\n",
      "Sp_H_1_Ml_T_1_R_12.wav 34.48596672215866\n",
      "Sp_H_1_Ml_B_1_L_4..wav 34.48596672215866\n",
      "Sp_H_1_Sn_T_1_L_9.wav 34.48596672215866\n",
      "Sp_H_1_Sn_T_1_L_8.wav 34.48596672215866\n",
      "Sp_H_1_Sn_B_1_L_10.wav 34.48596672215866\n",
      "Sp_H_1_Sn_B_1_L_12.wav 34.48596672215866\n",
      "Sp_H_1_Ml_T_1_R_11.wav 34.48596672215866\n",
      "Sp_H_1_Ml_T_1_R_10.wav 34.48596672215866\n",
      "Sp_H_1_Ml_B_1_L_2.wav 34.48596672215866\n",
      "Sp_H_1_Sn_T_1_L_6.wav 34.48596672215866\n",
      "Sp_H_1_Sn_T_1_L_7.wav 34.48596672215866\n",
      "Sp_H_1_Ml_B_1_L_3.wav 34.48596672215866\n",
      "Sp_H_1_Ml_B_1_L_1.wav 34.48596672215866\n",
      "Sp_H_1_Sn_T_1_L_5.wav 34.48596672215866\n",
      "Sp_H_1_Sn_B_1_L_9.wav 34.48596672215866\n",
      "Sp_H_1_Sn_B_1_L_8.wav 34.48596672215866\n",
      "Sp_H_1_Ml_B_1_R_5.wav 34.48596672215866\n",
      "Sp_H_1_Sn_T_1_R_1.wav 34.48596672215866\n",
      "Sp_H_1_Ml_B_1_R_6.wav 34.48596672215866\n",
      "Sp_H_1_Sn_T_1_R_2.wav 34.48596672215866\n",
      "Sp_H_1_Sn_T_1_R_3.wav 34.48596672215866\n",
      "Sp_H_1_Ml_B_1_R_7.wav 34.48596672215866\n",
      "Sp_H_1_Ml_T_1_R_9.wav 34.48596672215866\n",
      "Sp_H_1_Sn_T_1_R_4.wav 34.48596672215866\n",
      "Sp_H_1_Ml_T_1_R_8.wav 34.48596672215866\n",
      "Mu_H_3_Sn_B_1_L_4.wav 34.48596672215866\n",
      "Mu_H_3_Ml_B_1_L_8.wav 34.48596672215866\n",
      "Mu_H_3_Sn_B_1_L_5.wav 34.48596672215866\n",
      "Mu_H_3_Sn_B_1_L_7.wav 34.48596672215866\n",
      "Mu_H_3_Sn_B_1_L_6.wav 34.48596672215866\n",
      "Mu_H_3_Sn_B_1_L_2.wav 34.48596672215866\n",
      "Mu_H_3_Ml_T_1_L_6.wav 34.48596672215866\n",
      "Mu_H_3_Ml_T_1_L_7.wav 34.48596672215866\n",
      "Mu_H_3_Sn_B_1_L_3.wav 34.48596672215866\n",
      "Mu_H_3_Sn_B_1_L_1.wav 34.48596672215866\n",
      "Mu_H_3_Ml_T_1_L_5.wav 34.48596672215866\n",
      "Mu_H_3_Sn_T_1_L_8.wav 34.48596672215866\n",
      "Mu_H_3_Ml_T_1_R_4.wav 34.48596672215866\n",
      "Mu_H_3_Sn_T_1_R_9.wav 34.48596672215866\n",
      "Mu_H_3_Ml_T_1_R_1.wav 34.48596672215866\n",
      "Mu_H_3_Ml_B_1_R_9.wav 34.48596672215866\n",
      "Mu_H_3_Ml_T_1_R_2.wav 34.48596672215866\n",
      "Mu_H_3_Ml_T_1_R_3.wav 34.48596672215866\n",
      "Mu_H_3_Ml_B_1_R_10.wav 34.48596672215866\n",
      "Mu_H_3_Ml_B_1_R_11.wav 34.48596672215866\n",
      "Mu_H_3_Sn_B_1_R_9.wav 34.48596672215866\n",
      "Mu_H_3_Ml_B_1_R_4.wav 34.48596672215866\n",
      "Mu_H_3_Ml_B_1_R_12.wav 34.48596672215866\n",
      "Mu_H_3_Ml_B_1_R_1.wav 34.48596672215866\n",
      "Mu_H_3_Ml_T_1_R_11.wav 34.48596672215866\n",
      "Mu_H_3_Ml_T_1_R_10.wav 34.48596672215866\n",
      "Mu_H_3_Ml_T_1_R_9.wav 34.48596672215866\n",
      "Mu_H_3_Ml_B_1_R_2.wav 34.48596672215866\n",
      "Mu_H_3_Ml_T_1_R_12.wav 34.48596672215866\n",
      "Mu_H_3_Ml_B_1_R_3.wav 34.48596672215866\n",
      "Mu_H_3_Sn_T_1_R_10.wav 34.48596672215866\n",
      "Mu_H_3_Sn_T_1_L_4.wav 34.48596672215866\n",
      "Mu_H_3_Sn_T_1_L_5.wav 34.48596672215866\n",
      "Mu_H_3_Ml_T_1_L_8.wav 34.48596672215866\n",
      "Mu_H_3_Sn_T_1_R_11.wav 34.48596672215866\n",
      "Mu_H_3_Sn_T_1_L_7.wav 34.48596672215866\n",
      "Mu_H_3_Sn_T_1_L_6.wav 34.48596672215866\n",
      "Mu_H_3_Sn_T_1_R_12.wav 34.48596672215866\n",
      "Mu_H_3_Sn_B_1_R_11.wav 34.48596672215866\n",
      "Mu_H_3_Ml_B_1_L_6.wav 34.48596672215866\n",
      "Mu_H_3_Sn_T_1_L_2.wav 34.48596672215866\n",
      "Mu_H_3_Sn_T_1_L_3.wav 34.48596672215866\n",
      "Mu_H_3_Ml_B_1_L_7.wav 34.48596672215866\n",
      "Mu_H_3_Sn_B_1_R_10.wav 34.48596672215866\n",
      "Mu_H_3_Sn_B_1_R_12.wav 34.48596672215866\n",
      "Mu_H_3_Sn_B_1_L_8.wav 34.48596672215866\n",
      "Mu_H_3_Ml_B_1_L_5.wav 34.48596672215866\n",
      "Mu_H_3_Sn_T_1_L_1.wav 34.48596672215866\n"
     ]
    }
   ],
   "source": [
    "output_dir = Path('./normalized')\n",
    "headroom = 1\n",
    "gain = -max(max_amps.values()) - headroom\n",
    "if not output_dir.exists():\n",
    "    output_dir.mkdir()\n",
    "\n",
    "for subj, paths in subjects.items():\n",
    "    for p in paths:\n",
    "        # gain = -max_amps[subj] - headroom\n",
    "        print(p, gain)\n",
    "        normalize_file(output_dir, p, gain)"
   ]
  },
  {
   "cell_type": "code",
   "execution_count": null,
   "id": "deb0df8f-2dba-4a8b-8318-60a110370f97",
   "metadata": {},
   "outputs": [],
   "source": []
  }
 ],
 "metadata": {
  "kernelspec": {
   "display_name": "Python 3 (ipykernel)",
   "language": "python",
   "name": "python3"
  },
  "language_info": {
   "codemirror_mode": {
    "name": "ipython",
    "version": 3
   },
   "file_extension": ".py",
   "mimetype": "text/x-python",
   "name": "python",
   "nbconvert_exporter": "python",
   "pygments_lexer": "ipython3",
   "version": "3.8.13"
  }
 },
 "nbformat": 4,
 "nbformat_minor": 5
}
